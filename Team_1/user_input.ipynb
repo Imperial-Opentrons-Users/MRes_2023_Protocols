{
 "cells": [
  {
   "cell_type": "code",
   "execution_count": 10,
   "metadata": {},
   "outputs": [],
   "source": [
    "init = input(\"Do you want to do larvae sample prep + PCR [1] or PCR only [2]? (Type 1 or 2 to choose)\")\n",
    "\n",
    "if int(init) == 1:\n",
    "    scriptname = 'OT2-1_mosquito_pcr_script.py'\n",
    "if int(init) == 2:\n",
    "    scriptname = 'OT2-1_mosquito_pcr_only_script.py'\n",
    "\n",
    "while (int(init) != 1) and (int(init) != 2):\n",
    "    init = input(\"ERROR: Please input larvae sample prep [1] + PCR or PCR only [2]\")\n",
    "\n",
    "# Prompt user input to enter anneal temperature\n",
    "anneal_temp = input(\"Please input desired annealing temperature (Celsius): \")\n",
    "\n",
    "while anneal_temp.isnumeric() == False: # Check if user input is a number\n",
    "    anneal_temp = input(\"ERROR: Please input annealing temperature (Celsius): \")\n",
    "\n",
    "# Prompt user input to enter product length (kb) to calculate extension time\n",
    "extension_time = input(\"Please input PCR extension time (seconds): \")\n",
    "\n",
    "while extension_time.isnumeric() == False: # Check if user input is a number\n",
    "    extension_temp = input(\"ERROR: Please input a number extension time (seconds): \")\n",
    "\n",
    "# Extract lines of main script\n",
    "with open(scriptname, 'r') as file:\n",
    "    script = file.readlines()\n",
    "\n",
    "# Modify new anneal temp\n",
    "if int(init) == 1:\n",
    "    script[79] = '    anneal_temp = ' + anneal_temp + '\\n'\n",
    "\n",
    "    # Modify new extension time\n",
    "    script[81] = '    extension_time = ' + str(extension_time) + '\\n'\n",
    "\n",
    "if int(init) == 2:\n",
    "    script[57] = '    anneal_temp = ' + anneal_temp + '\\n'\n",
    "\n",
    "    # Modify new extension time\n",
    "    script[59] = '    extension_time = ' + str(extension_time) + '\\n'\n",
    "\n",
    "name = input('Input file name without extension: ')\n",
    "\n",
    "# Overwrite new input into file\n",
    "with open(name+'.py', 'w') as file:\n",
    "    file.writelines(script)"
   ]
  }
 ],
 "metadata": {
  "kernelspec": {
   "display_name": "mres_S5",
   "language": "python",
   "name": "python3"
  },
  "language_info": {
   "codemirror_mode": {
    "name": "ipython",
    "version": 3
   },
   "file_extension": ".py",
   "mimetype": "text/x-python",
   "name": "python",
   "nbconvert_exporter": "python",
   "pygments_lexer": "ipython3",
   "version": "3.9.9"
  }
 },
 "nbformat": 4,
 "nbformat_minor": 2
}
